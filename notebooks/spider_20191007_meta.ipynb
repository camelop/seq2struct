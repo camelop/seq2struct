{
 "cells": [
  {
   "cell_type": "code",
   "execution_count": 1,
   "metadata": {},
   "outputs": [],
   "source": [
    "import collections\n",
    "import itertools\n",
    "import json\n",
    "import os\n",
    "import re\n",
    "import glob\n",
    "import operator\n",
    "\n",
    "import pandas as pd\n",
    "import matplotlib.pyplot as plt\n",
    "import seaborn as sns\n",
    "%matplotlib inline\n",
    "plt.rcParams['figure.figsize'] = [20, 20]"
   ]
  },
  {
   "cell_type": "code",
   "execution_count": 2,
   "metadata": {},
   "outputs": [],
   "source": [
    "def compute_accuracy(rows):\n",
    "    levels = ['easy', 'medium', 'hard', 'extra', 'all']\n",
    "    total = collections.defaultdict(int)\n",
    "    exact = collections.defaultdict(int)\n",
    "    for row in rows:\n",
    "        exact[row['hardness']] += row['exact']\n",
    "        exact['all'] += row['exact']\n",
    "        total[row['hardness']] += 1\n",
    "        total['all'] += 1\n",
    "    \n",
    "    result = {hardness: exact[hardness] / total[hardness]\n",
    "              for hardness in levels}\n",
    "    result = {**result, **{'{} count'.format(hardness): total[hardness] for hardness in levels}}\n",
    "    return result"
   ]
  },
  {
   "cell_type": "code",
   "execution_count": 8,
   "metadata": {},
   "outputs": [
    {
     "name": "stdout",
     "output_type": "stream",
     "text": [
      "../logs/maml-1001-try_maml\n",
      "../logs/maml-1001-try_reptile\n",
      "../logs/maml-1003-non_meta\n"
     ]
    },
    {
     "data": {
      "text/html": [
       "<div>\n",
       "<style scoped>\n",
       "    .dataframe tbody tr th:only-of-type {\n",
       "        vertical-align: middle;\n",
       "    }\n",
       "\n",
       "    .dataframe tbody tr th {\n",
       "        vertical-align: top;\n",
       "    }\n",
       "\n",
       "    .dataframe thead th {\n",
       "        text-align: right;\n",
       "    }\n",
       "</style>\n",
       "<table border=\"1\" class=\"dataframe\">\n",
       "  <thead>\n",
       "    <tr style=\"text-align: right;\">\n",
       "      <th></th>\n",
       "      <th>name</th>\n",
       "      <th>num steps eval</th>\n",
       "      <th>step</th>\n",
       "      <th>acc</th>\n",
       "      <th>1/2 acc</th>\n",
       "      <th>2/2 acc</th>\n",
       "    </tr>\n",
       "  </thead>\n",
       "  <tbody>\n",
       "    <tr>\n",
       "      <th>0</th>\n",
       "      <td>maml-1001-try_maml</td>\n",
       "      <td>11</td>\n",
       "      <td>10000</td>\n",
       "      <td>0.386847</td>\n",
       "      <td>0.377176</td>\n",
       "      <td>0.396518</td>\n",
       "    </tr>\n",
       "    <tr>\n",
       "      <th>1</th>\n",
       "      <td>maml-1001-try_reptile</td>\n",
       "      <td>11</td>\n",
       "      <td>8100</td>\n",
       "      <td>0.400387</td>\n",
       "      <td>0.384913</td>\n",
       "      <td>0.415861</td>\n",
       "    </tr>\n",
       "    <tr>\n",
       "      <th>2</th>\n",
       "      <td>maml-1003-non_meta</td>\n",
       "      <td>9</td>\n",
       "      <td>10000</td>\n",
       "      <td>0.254352</td>\n",
       "      <td>0.280464</td>\n",
       "      <td>0.228240</td>\n",
       "    </tr>\n",
       "  </tbody>\n",
       "</table>\n",
       "</div>"
      ],
      "text/plain": [
       "                    name  num steps eval   step       acc   1/2 acc   2/2 acc\n",
       "0     maml-1001-try_maml              11  10000  0.386847  0.377176  0.396518\n",
       "1  maml-1001-try_reptile              11   8100  0.400387  0.384913  0.415861\n",
       "2     maml-1003-non_meta               9  10000  0.254352  0.280464  0.228240"
      ]
     },
     "execution_count": 8,
     "metadata": {},
     "output_type": "execute_result"
    }
   ],
   "source": [
    "accuracy_per_run = collections.defaultdict(dict)\n",
    "rows = []\n",
    "for d in sorted(glob.glob('../logs/*')):\n",
    "    exp_name = os.path.basename(d)\n",
    "    if \"wrong\" in exp_name or \"test\" in exp_name:\n",
    "        continue\n",
    "    # exp_vars = re.match('maml.*', exp_name).groups()\n",
    "    \n",
    "\n",
    "    eval_paths = glob.glob(os.path.join(d, 'eval-val-step*-bs1.jsonl'))\n",
    "    all_scores = []\n",
    "    best = (0, 0)\n",
    "    for eval_path in eval_paths:\n",
    "        step = int(re.search('step(\\d+)', eval_path).group(1))\n",
    "        scores = json.load(open(eval_path))\n",
    "        first_half_exact = compute_accuracy(scores['per_item'][:517])\n",
    "        second_half_exact = compute_accuracy(scores['per_item'][517:])\n",
    "        all_scores.append((step, scores['total_scores']['all']['exact'], first_half_exact['all'], second_half_exact['all']))\n",
    "    \n",
    "    all_scores.sort(key=operator.itemgetter(0))\n",
    "    sorted_scores = sorted(all_scores, reverse=True, key=operator.itemgetter(1))\n",
    "    rows.append((exp_name,)+( len(eval_paths),) + (sorted_scores[0] if sorted_scores else (-1, -1, -1, -1)))\n",
    "    accuracy_per_run[exp_name] = {\n",
    "        'x': [s[0] for s in all_scores],\n",
    "        'all': [s[1] for s in all_scores],\n",
    "        '1/2': [s[2] for s in all_scores],\n",
    "        '2/2': [s[3] for s in all_scores],\n",
    "    }\n",
    "    print(d)\n",
    "    \n",
    "df = pd.DataFrame(rows, columns=('name', 'num steps eval', 'step', 'acc', '1/2 acc', '2/2 acc'))\n",
    "df"
   ]
  },
  {
   "cell_type": "code",
   "execution_count": null,
   "metadata": {},
   "outputs": [],
   "source": []
  },
  {
   "cell_type": "code",
   "execution_count": 9,
   "metadata": {},
   "outputs": [
    {
     "data": {
      "text/plain": [
       "<matplotlib.legend.Legend at 0x7f1e6aab3588>"
      ]
     },
     "execution_count": 9,
     "metadata": {},
     "output_type": "execute_result"
    },
    {
     "data": {
      "image/png": "[encoded data removed]",
      "text/plain": [
       "<Figure size 960x640 with 1 Axes>"
      ]
     },
     "metadata": {},
     "output_type": "display_data"
    }
   ],
   "source": [
    "fig=plt.figure(figsize=(12, 8), dpi= 80, facecolor='w', edgecolor='k')\n",
    "# See how accuracy varies over time\n",
    "for k, v in sorted(accuracy_per_run.items()):\n",
    "    plt.plot(v['x'], v['all'], marker='.', label=k)\n",
    "plt.legend()\n"
   ]
  },
  {
   "cell_type": "code",
   "execution_count": 20,
   "metadata": {},
   "outputs": [],
   "source": [
    "dev = json.load(open('../data/spider-20190205/dev.json'))\n",
    "def compare(data, left, right):\n",
    "    both_exact = []\n",
    "    left_exact = []\n",
    "    right_exact = []\n",
    "    neither_exact = []\n",
    "    for i, (data_item, left_item, right_item) in enumerate(zip(data, left['per_item'], right['per_item'])):\n",
    "        result = {\n",
    "            'i': i,\n",
    "            'db_id': data_item['db_id'],\n",
    "            'question': data_item['question'],\n",
    "            'gold': data_item['query'],\n",
    "            'left': left_item['predicted'],\n",
    "            'right': right_item['predicted'],\n",
    "        }\n",
    "        \n",
    "        if left_item['exact'] and right_item['exact']:\n",
    "            both_exact.append(result)\n",
    "        elif left_item['exact']:\n",
    "            left_exact.append(result)\n",
    "        elif right_item['exact']:\n",
    "            right_exact.append(result)\n",
    "        else:\n",
    "            neither_exact.append(result)\n",
    "    return both_exact, left_exact, right_exact, neither_exact        "
   ]
  },
  {
   "cell_type": "code",
   "execution_count": 22,
   "metadata": {},
   "outputs": [
    {
     "data": {
      "text/plain": [
       "(0.27949709864603484, 0.09671179883945841, 0.08317214700193423)"
      ]
     },
     "execution_count": 22,
     "metadata": {},
     "output_type": "execute_result"
    }
   ],
   "source": [
    "both_exact, left_exact, right_exact, neither_exact = compare(\n",
    "    dev,\n",
    "    json.load(open('../logdirs/20190428-random/fixed=init,att=0/eval-val-step38100-bs1.jsonl')),\n",
    "    json.load(open('../logdirs/20190428-random/fixed=init,att=1/eval-val-step33100-bs1.jsonl')))\n",
    "len(both_exact)/len(dev), len(left_exact)/len(dev), len(right_exact)/len(dev)"
   ]
  },
  {
   "cell_type": "code",
   "execution_count": 23,
   "metadata": {},
   "outputs": [
    {
     "data": {
      "text/plain": [
       "(0.27852998065764023, 0.09090909090909091, 0.10348162475822051)"
      ]
     },
     "execution_count": 23,
     "metadata": {},
     "output_type": "execute_result"
    }
   ],
   "source": [
    "both_exact, left_exact, right_exact, neither_exact = compare(\n",
    "    dev,\n",
    "    json.load(open('../logdirs/20190428-random/fixed=data+model,att=0/eval-val-step37100-bs1.jsonl')),\n",
    "    json.load(open('../logdirs/20190428-random/fixed=data+model,att=1/eval-val-step40000-bs1.jsonl')))\n",
    "len(both_exact)/len(dev), len(left_exact)/len(dev), len(right_exact)/len(dev)"
   ]
  },
  {
   "cell_type": "code",
   "execution_count": 26,
   "metadata": {},
   "outputs": [
    {
     "data": {
      "text/plain": [
       "(0.3181818181818182, 0.08704061895551257, 0.08317214700193423)"
      ]
     },
     "execution_count": 26,
     "metadata": {},
     "output_type": "execute_result"
    }
   ],
   "source": [
    "both_exact, left_exact, right_exact, neither_exact = compare(\n",
    "    dev,\n",
    "    json.load(open('../logdirs/20190428-stability/bs=100,lr=1.0e-03,end_lr=0e0,att=0/eval-val-step10100-bs1.jsonl')),\n",
    "    json.load(open('../logdirs/20190428-stability/bs=50,lr=1.0e-03,end_lr=0e0,att=0/eval-val-step21100-bs1.jsonl')))\n",
    "len(both_exact)/len(dev), len(left_exact)/len(dev), len(right_exact)/len(dev)"
   ]
  }
 ],
 "metadata": {
  "kernelspec": {
   "display_name": "Python 3",
   "language": "python",
   "name": "python3"
  },
  "language_info": {
   "codemirror_mode": {
    "name": "ipython",
    "version": 3
   },
   "file_extension": ".py",
   "mimetype": "text/x-python",
   "name": "python",
   "nbconvert_exporter": "python",
   "pygments_lexer": "ipython3",
   "version": "3.7.3"
  }
 },
 "nbformat": 4,
 "nbformat_minor": 2
}
